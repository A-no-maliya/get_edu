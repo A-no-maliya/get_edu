{
 "cells": [
  {
   "cell_type": "code",
   "execution_count": 2,
   "metadata": {},
   "outputs": [],
   "source": [
    "import json \n",
    "import random \n",
    " \n",
    " \n",
    "N_sample = 1000                                                                         # number of array elements - people\n",
    "data_set = {}                                                                           # empty dict for random values\n",
    " \n",
    " \n",
    "for i in range(N_sample):                                                               # a cycle for random selection of the sex of the person we will investigate\n",
    "    person = random.randint(0, 1)                                                       # to return a random integer within a given limit\n",
    "\n",
    "    #female \n",
    "    if person:  \n",
    "        random_height_15_y_o = round(random.gauss(mu=161.0, sigma=0.76), 3)             # generation of random height of a 15-year-old woman with rounded to 3 decimal places\n",
    "        random_weight_15_y_o = round(random.gauss(mu=62.4, sigma=1.52), 3)              # generation of random weight of a 15-year-old woman with rounded to 3 decimal places\n",
    "        sex = \"female\"    \n",
    "\n",
    "    #male\n",
    "    else: \n",
    "        random_height_15_y_o = round(random.gauss(mu=172.3, sigma=0.67), 3)             # generation of random height of a 15-year-old man with rounded to 3 decimal places\n",
    "        random_weight_15_y_o = round(random.gauss(mu=72.7, sigma=1.93), 3)              # generation of random weight of a 15-year-old man with rounded to 3 decimal places\n",
    "        sex = \"male\"\n",
    " \n",
    "    data_set[i] = { \"name\": f\"student {i}\",                                             # generation i-element from dict with random values by keys\n",
    "                    \"sex\": sex, \n",
    "                    \"height\": random_height_15_y_o,\n",
    "                    \"weight\": random_weight_15_y_o \n",
    "                } \n",
    " \n",
    "\n",
    "with open(\"rand_json_the_first.json\", \"w\", encoding=\"UTF-8\") as file:                   # writing this dictionary of random values to a file\n",
    "    json.dump(data_set, file)"
   ]
  }
 ],
 "metadata": {
  "kernelspec": {
   "display_name": "Python 3",
   "language": "python",
   "name": "python3"
  },
  "language_info": {
   "codemirror_mode": {
    "name": "ipython",
    "version": 3
   },
   "file_extension": ".py",
   "mimetype": "text/x-python",
   "name": "python",
   "nbconvert_exporter": "python",
   "pygments_lexer": "ipython3",
   "version": "3.10.10"
  },
  "orig_nbformat": 4,
  "vscode": {
   "interpreter": {
    "hash": "229cdfb8eedfa4964725b7eb0da8d7a63b25d97a6ab808f09bd6b506844c0629"
   }
  }
 },
 "nbformat": 4,
 "nbformat_minor": 2
}
